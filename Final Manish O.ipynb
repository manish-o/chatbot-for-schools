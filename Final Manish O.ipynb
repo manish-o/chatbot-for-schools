{
 "cells": [
  {
   "cell_type": "code",
   "execution_count": 22,
   "metadata": {},
   "outputs": [],
   "source": [
    "import nltk \n",
    "import numpy as np \n",
    "import random \n",
    "import string \n",
    "from sklearn.metrics.pairwise import cosine_similarity \n",
    "from sklearn.feature_extraction.text import TfidfVectorizer "
   ]
  },
  {
   "cell_type": "code",
   "execution_count": 23,
   "metadata": {},
   "outputs": [
    {
     "name": "stderr",
     "output_type": "stream",
     "text": [
      "[nltk_data] Downloading package punkt to\n",
      "[nltk_data]     C:\\Users\\Manish\\AppData\\Roaming\\nltk_data...\n",
      "[nltk_data]   Package punkt is already up-to-date!\n",
      "[nltk_data] Downloading package wordnet to\n",
      "[nltk_data]     C:\\Users\\Manish\\AppData\\Roaming\\nltk_data...\n",
      "[nltk_data]   Package wordnet is already up-to-date!\n"
     ]
    },
    {
     "data": {
      "text/plain": [
       "True"
      ]
     },
     "execution_count": 23,
     "metadata": {},
     "output_type": "execute_result"
    }
   ],
   "source": [
    "nltk.download('punkt') \n",
    "nltk.download('wordnet') "
   ]
  },
  {
   "cell_type": "code",
   "execution_count": 24,
   "metadata": {},
   "outputs": [
    {
     "name": "stdout",
     "output_type": "stream",
     "text": [
      "Summer vacation for students will be from 1st May to 28th May. \n",
      "School reopens on 29th May.\n",
      "Class will have a short break from 24 March to 31 march. \n",
      "The exams will start on 1st april.\n",
      "the exams will be conducted online.\n",
      "Results will be published on 28 Apr 2021 in the class portal. \n",
      "The prescribed book sets will be ordered online through the school portal and should be collected from the school campus Dates for collecting the booksets will be forwarded shortly, keeping all safety guidelines in place.\n",
      "Online classes will take place for classes 4 to 6 and offline classes for classes 7 to 12 , The classes will be from 8:30am to 12:10pm with 4 periods each 40 mins with 20 mins break after each period for both online and offline classes.\n",
      "\n",
      "any appointments with the principal will be online. parents can register through the school portal.\n",
      "the syllabus will be given to the students shortly through the school portal.\n",
      "any problems regarding the software used by students can be addresed to ithelp@school.com.\n",
      "the uniform will be collected in school on 30 april between 8am and 11am.\n",
      "\n",
      "the students coming for online classes should follow safety norms and guidelines such as wearing a mask, following social ditancing and washing hands after every class.\n",
      "No school transport will be provided, students have to use other means.\n",
      "the school is not responsible if the child develops symptoms.\n",
      "payment of fees can be online by 2 may.\n",
      "\n",
      "\n",
      "\n",
      "\n",
      "\n",
      "\n",
      "\n",
      " \n",
      "\n"
     ]
    }
   ],
   "source": [
    "\n",
    "filepath='./text2.txt'\n",
    "corpus=open(filepath,'r',errors = 'ignore')\n",
    "raw_data=corpus.read()\n",
    "print (raw_data)"
   ]
  },
  {
   "cell_type": "code",
   "execution_count": 25,
   "metadata": {},
   "outputs": [
    {
     "name": "stdout",
     "output_type": "stream",
     "text": [
      "summer vacation for students will be from 1st may to 28th may. \n",
      "school reopens on 29th may.\n",
      "class will have a short break from 24 march to 31 march. \n",
      "the exams will start on 1st april.\n",
      "the exams will be conducted online.\n",
      "results will be published on 28 apr 2021 in the class portal. \n",
      "the prescribed book sets will be ordered online through the school portal and should be collected from the school campus dates for collecting the booksets will be forwarded shortly, keeping all safety guidelines in place.\n",
      "online classes will take place for classes 4 to 6 and offline classes for classes 7 to 12 , the classes will be from 8:30am to 12:10pm with 4 periods each 40 mins with 20 mins break after each period for both online and offline classes.\n",
      "\n",
      "any appointments with the principal will be online. parents can register through the school portal.\n",
      "the syllabus will be given to the students shortly through the school portal.\n",
      "any problems regarding the software used by students can be addresed to ithelp@school.com.\n",
      "the uniform will be collected in school on 30 april between 8am and 11am.\n",
      "\n",
      "the students coming for online classes should follow safety norms and guidelines such as wearing a mask, following social ditancing and washing hands after every class.\n",
      "no school transport will be provided, students have to use other means.\n",
      "the school is not responsible if the child develops symptoms.\n",
      "payment of fees can be online by 2 may.\n",
      "\n",
      "\n",
      "\n",
      "\n",
      "\n",
      "\n",
      "\n",
      " \n",
      "\n"
     ]
    }
   ],
   "source": [
    "raw_data=raw_data.lower()\n",
    "print (raw_data)"
   ]
  },
  {
   "cell_type": "code",
   "execution_count": 26,
   "metadata": {},
   "outputs": [
    {
     "name": "stdout",
     "output_type": "stream",
     "text": [
      "['summer vacation for students will be from 1st may to 28th may.', 'school reopens on 29th may.', 'class will have a short break from 24 march to 31 march.', 'the exams will start on 1st april.', 'the exams will be conducted online.', 'results will be published on 28 apr 2021 in the class portal.', 'the prescribed book sets will be ordered online through the school portal and should be collected from the school campus dates for collecting the booksets will be forwarded shortly, keeping all safety guidelines in place.', 'online classes will take place for classes 4 to 6 and offline classes for classes 7 to 12 , the classes will be from 8:30am to 12:10pm with 4 periods each 40 mins with 20 mins break after each period for both online and offline classes.', 'any appointments with the principal will be online.', 'parents can register through the school portal.', 'the syllabus will be given to the students shortly through the school portal.', 'any problems regarding the software used by students can be addresed to ithelp@school.com.', 'the uniform will be collected in school on 30 april between 8am and 11am.', 'the students coming for online classes should follow safety norms and guidelines such as wearing a mask, following social ditancing and washing hands after every class.', 'no school transport will be provided, students have to use other means.', 'the school is not responsible if the child develops symptoms.', 'payment of fees can be online by 2 may.']\n"
     ]
    }
   ],
   "source": [
    "sent_tokens = nltk.sent_tokenize(raw_data)\n",
    "print(sent_tokens)"
   ]
  },
  {
   "cell_type": "code",
   "execution_count": 27,
   "metadata": {},
   "outputs": [
    {
     "name": "stdout",
     "output_type": "stream",
     "text": [
      "printing lists in new line\n",
      "summer vacation for students will be from 1st may to 28th may.\n",
      "school reopens on 29th may.\n",
      "class will have a short break from 24 march to 31 march.\n",
      "the exams will start on 1st april.\n",
      "the exams will be conducted online.\n",
      "results will be published on 28 apr 2021 in the class portal.\n",
      "the prescribed book sets will be ordered online through the school portal and should be collected from the school campus dates for collecting the booksets will be forwarded shortly, keeping all safety guidelines in place.\n",
      "online classes will take place for classes 4 to 6 and offline classes for classes 7 to 12 , the classes will be from 8:30am to 12:10pm with 4 periods each 40 mins with 20 mins break after each period for both online and offline classes.\n",
      "any appointments with the principal will be online.\n",
      "parents can register through the school portal.\n",
      "the syllabus will be given to the students shortly through the school portal.\n",
      "any problems regarding the software used by students can be addresed to ithelp@school.com.\n",
      "the uniform will be collected in school on 30 april between 8am and 11am.\n",
      "the students coming for online classes should follow safety norms and guidelines such as wearing a mask, following social ditancing and washing hands after every class.\n",
      "no school transport will be provided, students have to use other means.\n",
      "the school is not responsible if the child develops symptoms.\n",
      "payment of fees can be online by 2 may.\n"
     ]
    }
   ],
   "source": [
    "print(\"printing lists in new line\") \n",
    "  \n",
    "print(*sent_tokens, sep = \"\\n\")"
   ]
  },
  {
   "cell_type": "code",
   "execution_count": 28,
   "metadata": {},
   "outputs": [
    {
     "name": "stdout",
     "output_type": "stream",
     "text": [
      "['summer', 'vacation', 'for', 'students', 'will', 'be', 'from', '1st', 'may', 'to', '28th', 'may', '.', 'school', 'reopens', 'on', '29th', 'may', '.', 'class', 'will', 'have', 'a', 'short', 'break', 'from', '24', 'march', 'to', '31', 'march', '.', 'the', 'exams', 'will', 'start', 'on', '1st', 'april', '.', 'the', 'exams', 'will', 'be', 'conducted', 'online', '.', 'results', 'will', 'be', 'published', 'on', '28', 'apr', '2021', 'in', 'the', 'class', 'portal', '.', 'the', 'prescribed', 'book', 'sets', 'will', 'be', 'ordered', 'online', 'through', 'the', 'school', 'portal', 'and', 'should', 'be', 'collected', 'from', 'the', 'school', 'campus', 'dates', 'for', 'collecting', 'the', 'booksets', 'will', 'be', 'forwarded', 'shortly', ',', 'keeping', 'all', 'safety', 'guidelines', 'in', 'place', '.', 'online', 'classes', 'will', 'take', 'place', 'for', 'classes', '4', 'to', '6', 'and', 'offline', 'classes', 'for', 'classes', '7', 'to', '12', ',', 'the', 'classes', 'will', 'be', 'from', '8:30am', 'to', '12:10pm', 'with', '4', 'periods', 'each', '40', 'mins', 'with', '20', 'mins', 'break', 'after', 'each', 'period', 'for', 'both', 'online', 'and', 'offline', 'classes', '.', 'any', 'appointments', 'with', 'the', 'principal', 'will', 'be', 'online', '.', 'parents', 'can', 'register', 'through', 'the', 'school', 'portal', '.', 'the', 'syllabus', 'will', 'be', 'given', 'to', 'the', 'students', 'shortly', 'through', 'the', 'school', 'portal', '.', 'any', 'problems', 'regarding', 'the', 'software', 'used', 'by', 'students', 'can', 'be', 'addresed', 'to', 'ithelp', '@', 'school.com', '.', 'the', 'uniform', 'will', 'be', 'collected', 'in', 'school', 'on', '30', 'april', 'between', '8am', 'and', '11am', '.', 'the', 'students', 'coming', 'for', 'online', 'classes', 'should', 'follow', 'safety', 'norms', 'and', 'guidelines', 'such', 'as', 'wearing', 'a', 'mask', ',', 'following', 'social', 'ditancing', 'and', 'washing', 'hands', 'after', 'every', 'class', '.', 'no', 'school', 'transport', 'will', 'be', 'provided', ',', 'students', 'have', 'to', 'use', 'other', 'means', '.', 'the', 'school', 'is', 'not', 'responsible', 'if', 'the', 'child', 'develops', 'symptoms', '.', 'payment', 'of', 'fees', 'can', 'be', 'online', 'by', '2', 'may', '.']\n"
     ]
    }
   ],
   "source": [
    "word_tokens = nltk.word_tokenize(raw_data)\n",
    "print (word_tokens)"
   ]
  },
  {
   "cell_type": "code",
   "execution_count": 29,
   "metadata": {},
   "outputs": [
    {
     "name": "stdout",
     "output_type": "stream",
     "text": [
      "17 269\n"
     ]
    }
   ],
   "source": [
    "\n",
    "print(len(sent_tokens), len(word_tokens))"
   ]
  },
  {
   "cell_type": "code",
   "execution_count": 30,
   "metadata": {},
   "outputs": [],
   "source": [
    "lemmer = nltk.stem.WordNetLemmatizer() \n",
    "def LemTokens(tokens):\n",
    "    return [lemmer.lemmatize(token) for token in tokens]"
   ]
  },
  {
   "cell_type": "code",
   "execution_count": 31,
   "metadata": {},
   "outputs": [],
   "source": [
    "remove_punct_dict = dict((ord(punct), None) for punct in string.punctuation)\n",
    "def LemNormalize(text):\n",
    "    return LemTokens(nltk.word_tokenize(text.lower().translate(remove_punct_dict))) "
   ]
  },
  {
   "cell_type": "code",
   "execution_count": 32,
   "metadata": {},
   "outputs": [
    {
     "data": {
      "text/plain": [
       "['Today',\n",
       " 'wa',\n",
       " 'a',\n",
       " 'wonderful',\n",
       " 'day',\n",
       " '.',\n",
       " 'Such',\n",
       " 'a',\n",
       " 'beautiful',\n",
       " 'sunrise',\n",
       " '!']"
      ]
     },
     "execution_count": 32,
     "metadata": {},
     "output_type": "execute_result"
    }
   ],
   "source": [
    "test_sentence='Today was a wonderful day. Such a beautiful sunrise !'\n",
    "# your code here\n",
    "test_word_tokens = nltk.word_tokenize(test_sentence)\n",
    "\n",
    "lemmer = nltk.stem.WordNetLemmatizer()\n",
    "def LemTokens(tokens):\n",
    "    return [lemmer.lemmatize(token) for token in tokens]\n",
    "\n",
    "LemTokens(test_word_tokens)"
   ]
  },
  {
   "cell_type": "code",
   "execution_count": 33,
   "metadata": {},
   "outputs": [],
   "source": [
    "GREETING_INPUTS = [\"hello\", \"hi\", \"greetings\", \"sup\", \"what's up\",\"hey\", \"hey there\"]\n",
    "GREETING_RESPONSES = [\"hi\", \"hey\", \"hi there\", \"hello\", \"I am glad! You are talking to me\"]"
   ]
  },
  {
   "cell_type": "code",
   "execution_count": 34,
   "metadata": {},
   "outputs": [],
   "source": [
    "def greeting(sentence):\n",
    "    for word in sentence.split(): \n",
    "        if word.lower() in GREETING_INPUTS: \n",
    "            return random.choice(GREETING_RESPONSES) "
   ]
  },
  {
   "cell_type": "code",
   "execution_count": 35,
   "metadata": {},
   "outputs": [
    {
     "data": {
      "text/plain": [
       "'hi'"
      ]
     },
     "execution_count": 35,
     "metadata": {},
     "output_type": "execute_result"
    }
   ],
   "source": [
    "greeting('hello')"
   ]
  },
  {
   "cell_type": "code",
   "execution_count": 36,
   "metadata": {},
   "outputs": [],
   "source": [
    "def response(user_response):\n",
    "    \n",
    "    robo_response='' \n",
    "    sent_tokens.append(user_response) \n",
    "    TfidfVec = TfidfVectorizer(tokenizer=LemNormalize, stop_words='english') \n",
    "    tfidf = TfidfVec.fit_transform(sent_tokens) \n",
    "    vals = cosine_similarity(tfidf[-1], tfidf) \n",
    "    idx=vals.argsort()[0][-2] \n",
    "    flat = vals.flatten() \n",
    "    flat.sort() \n",
    "    req_tfidf = flat[-2] \n",
    "    \n",
    "    if(req_tfidf==0):\n",
    "        robo_response=robo_response+\"I am sorry! I don't understand you. Please ask relevant questions regarding the school\"\n",
    "        return robo_response\n",
    "    else:\n",
    "        robo_response = robo_response+sent_tokens[idx]\n",
    "        return robo_response"
   ]
  },
  {
   "cell_type": "code",
   "execution_count": null,
   "metadata": {},
   "outputs": [
    {
     "name": "stdout",
     "output_type": "stream",
     "text": [
      "Schoolo: My name is Schoolo. I will answer your queries regarding the school. If you want to exit, type Bye!\n"
     ]
    }
   ],
   "source": [
    "flag=True\n",
    "print(\"Schoolo: My name is Schoolo. I will answer your queries regarding the school. If you want to exit, type Bye!\")\n",
    "while(flag==True):\n",
    "    user_response = input()\n",
    "    user_response=user_response.lower()\n",
    "    if(user_response!='bye'):\n",
    "        if(user_response=='thanks' or user_response=='thank you' ):\n",
    "            flag=False\n",
    "            print(\"Schoolo: You are welcome..\")\n",
    "        else:\n",
    "            if(greeting(user_response)!=None):\n",
    "                print(\"Schoolo: \"+greeting(user_response))\n",
    "            else:\n",
    "                print(\"Schoolo: \",end=\"\")\n",
    "                print(response(user_response))\n",
    "                sent_tokens.remove(user_response)\n",
    "    else:\n",
    "        flag=False\n",
    "        print(\"Schoolo: Bye! take care..\")"
   ]
  },
  {
   "cell_type": "code",
   "execution_count": null,
   "metadata": {},
   "outputs": [],
   "source": []
  }
 ],
 "metadata": {
  "kernelspec": {
   "display_name": "Python 3",
   "language": "python",
   "name": "python3"
  },
  "language_info": {
   "codemirror_mode": {
    "name": "ipython",
    "version": 3
   },
   "file_extension": ".py",
   "mimetype": "text/x-python",
   "name": "python",
   "nbconvert_exporter": "python",
   "pygments_lexer": "ipython3",
   "version": "3.8.5"
  }
 },
 "nbformat": 4,
 "nbformat_minor": 2
}
